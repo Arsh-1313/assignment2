{
 "cells": [
  {
   "cell_type": "markdown",
   "id": "0d9a8f30-f94f-473d-8b7b-eab810f4e079",
   "metadata": {},
   "source": [
    "Q1. How do you comment code in Python? What are the different types of comments?\n"
   ]
  },
  {
   "cell_type": "markdown",
   "id": "25f44cdc-162f-4f4a-a42e-b89156c0e220",
   "metadata": {},
   "source": [
    "Answer: comments can be done by '#' sign adding in front of text Example: # sample comment"
   ]
  },
  {
   "cell_type": "markdown",
   "id": "6204990a-eba5-4e6f-a47c-5484b093942c",
   "metadata": {},
   "source": [
    "types are Single line Comments , Multiline Comments , Docstring Comments"
   ]
  },
  {
   "cell_type": "markdown",
   "id": "a3419d15-4df9-4068-9fd8-adeb9b51266d",
   "metadata": {},
   "source": [
    "Q2. What are variables in Python? How do you declare and assign values to variables?\n"
   ]
  },
  {
   "cell_type": "markdown",
   "id": "d892c9b6-63f7-488f-abab-60cae04e8a91",
   "metadata": {},
   "source": [
    "Answer: Variables are containers for storing data values"
   ]
  },
  {
   "cell_type": "markdown",
   "id": "7f3cdb7b-df69-4b82-bba0-b45c93613650",
   "metadata": {},
   "source": [
    "Python has not have any command for that just writing the variable name then assigning sign and next is the value to be assigned"
   ]
  },
  {
   "cell_type": "markdown",
   "id": "35fa147a-b7e5-433b-927a-348249b5a770",
   "metadata": {},
   "source": [
    "Q3. How do you convert one data type to another in Python?\n"
   ]
  },
  {
   "cell_type": "markdown",
   "id": "fdbddd9e-df87-4902-922f-18de1793203a",
   "metadata": {},
   "source": [
    "Answer: we use the type function. There are several built-in functions to perform conversion from one data type to another Example: float(3)"
   ]
  },
  {
   "cell_type": "markdown",
   "id": "4e1a48cf-f458-4306-8aa4-fce28affb7cd",
   "metadata": {},
   "source": [
    "Q4. How do you write and execute a Python script from the command line?\n"
   ]
  },
  {
   "cell_type": "markdown",
   "id": "20f1f6cf-ebd1-4e67-9337-9b9969aeea22",
   "metadata": {},
   "source": [
    "Answer: To run a Python script in command line, we have to write ‘python’ keyword and then file name in the command prompt next to keyword."
   ]
  },
  {
   "cell_type": "markdown",
   "id": "5a203743-6617-4327-98a8-d724ba997fa0",
   "metadata": {},
   "source": [
    "Q5. Given a list my_list = [1, 2, 3, 4, 5], write the code to slice the list and obtain the sub-list [2, 3].\n"
   ]
  },
  {
   "cell_type": "code",
   "execution_count": null,
   "id": "f26a4385-8f0b-4b3f-a9ad-6e3fc3e538ae",
   "metadata": {},
   "outputs": [
    {
     "data": {
      "text/plain": [
       "[2, 3]"
      ]
     },
     "execution_count": 1,
     "metadata": {},
     "output_type": "execute_result"
    }
   ],
   "source": [
    "my_list = [1, 2, 3, 4, 5]\n",
    "my_list[1:3]"
   ]
  },
  {
   "cell_type": "markdown",
   "id": "8bf4bd48-8503-4151-b723-32c743d495f0",
   "metadata": {},
   "source": [
    "Q6. What is a complex number in mathematics, and how is it represented in Python?\n"
   ]
  },
  {
   "cell_type": "markdown",
   "id": "4fc3e753-5c2b-4617-924d-4179d9d1f468",
   "metadata": {},
   "source": [
    "Answer: complex number in mathematics is represented by 'x + yi' which has real number and imaginary number "
   ]
  },
  {
   "cell_type": "markdown",
   "id": "6adaed74-ec69-46f8-bcc6-264754f0ed5b",
   "metadata": {},
   "source": [
    "but in python it is represented by 'x+yj' where x is a real number and y is a imaginary number"
   ]
  },
  {
   "cell_type": "markdown",
   "id": "4f09edab-9ee6-4085-adba-9c0fe0a9e8fb",
   "metadata": {},
   "source": [
    "Q7. What is the correct way to declare a variable named age and assign the value 25 to it?\n"
   ]
  },
  {
   "cell_type": "markdown",
   "id": "28793774-e69a-4c27-a818-7af0225d163d",
   "metadata": {},
   "source": [
    "Answer: "
   ]
  },
  {
   "cell_type": "code",
   "execution_count": 2,
   "id": "8c89f1c3-17c4-48e0-b310-b74da98deae5",
   "metadata": {},
   "outputs": [
    {
     "data": {
      "text/plain": [
       "25"
      ]
     },
     "execution_count": 2,
     "metadata": {},
     "output_type": "execute_result"
    }
   ],
   "source": [
    "age = 25\n",
    "age"
   ]
  },
  {
   "cell_type": "markdown",
   "id": "8243695f-5e12-4e00-b1cb-fb3367335c84",
   "metadata": {},
   "source": [
    "Q8. Declare a variable named price and assign the value 9.99 to it. What data type does this variable belong to?\n"
   ]
  },
  {
   "cell_type": "code",
   "execution_count": 3,
   "id": "3a58d436-b2ad-4444-9f33-bd27eee1b011",
   "metadata": {},
   "outputs": [
    {
     "data": {
      "text/plain": [
       "float"
      ]
     },
     "execution_count": 3,
     "metadata": {},
     "output_type": "execute_result"
    }
   ],
   "source": [
    "price=9.99\n",
    "type(price)"
   ]
  },
  {
   "cell_type": "markdown",
   "id": "3e9a06ba-1bb8-4f0f-8af6-d0f80562cb99",
   "metadata": {},
   "source": [
    "Q9. Create a variable named name and assign your full name to it as a string. How would you print the value of this variable?\n"
   ]
  },
  {
   "cell_type": "code",
   "execution_count": 6,
   "id": "b4c5bcc2-cfe8-4df5-ab15-ac1772950e4f",
   "metadata": {},
   "outputs": [
    {
     "data": {
      "text/plain": [
       "'Arshdeep Singh'"
      ]
     },
     "execution_count": 6,
     "metadata": {},
     "output_type": "execute_result"
    }
   ],
   "source": [
    "name = \"Arshdeep Singh\"\n",
    "name"
   ]
  },
  {
   "cell_type": "code",
   "execution_count": 7,
   "id": "270f6c3b-736a-4f60-861e-bf0a374d307d",
   "metadata": {},
   "outputs": [
    {
     "data": {
      "text/plain": [
       "str"
      ]
     },
     "execution_count": 7,
     "metadata": {},
     "output_type": "execute_result"
    }
   ],
   "source": [
    "type(name)"
   ]
  },
  {
   "cell_type": "markdown",
   "id": "560737d6-69c7-4d81-b8c5-d550d04c0245",
   "metadata": {},
   "source": [
    "Q10. Given the string \"Hello, World!\", extract the substring \"World\" ?\n"
   ]
  },
  {
   "cell_type": "code",
   "execution_count": 8,
   "id": "3710a2ef-ac0a-4791-a840-8bed75939e0e",
   "metadata": {},
   "outputs": [
    {
     "data": {
      "text/plain": [
       "'World'"
      ]
     },
     "execution_count": 8,
     "metadata": {},
     "output_type": "execute_result"
    }
   ],
   "source": [
    "a = \"Hello, World!\"\n",
    "a[7:12]"
   ]
  },
  {
   "cell_type": "markdown",
   "id": "45e9d081-21fe-411b-a752-c5b7d81ef949",
   "metadata": {},
   "source": [
    "Q11. Create a variable named \"is_student\" and assign it a boolean value indicating whether you are currently a student or not?\n"
   ]
  },
  {
   "cell_type": "code",
   "execution_count": 10,
   "id": "c220c6df-d6b3-458f-8afe-84756f78c826",
   "metadata": {},
   "outputs": [],
   "source": [
    "is_student = True"
   ]
  }
 ],
 "metadata": {
  "kernelspec": {
   "display_name": "Python 3 (ipykernel)",
   "language": "python",
   "name": "python3"
  },
  "language_info": {
   "codemirror_mode": {
    "name": "ipython",
    "version": 3
   },
   "file_extension": ".py",
   "mimetype": "text/x-python",
   "name": "python",
   "nbconvert_exporter": "python",
   "pygments_lexer": "ipython3",
   "version": "3.10.8"
  }
 },
 "nbformat": 4,
 "nbformat_minor": 5
}
